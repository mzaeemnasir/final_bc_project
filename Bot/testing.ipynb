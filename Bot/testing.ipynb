{
 "cells": [
  {
   "cell_type": "code",
   "execution_count": 14,
   "metadata": {},
   "outputs": [],
   "source": [
    "API_KEY = \"e884248f986f1d587d8cfa36ff86271d04bafb10760399afd683bcad9936eb31\"\n",
    "API_SECRET = \"051b2190c5781275fd8948c99f832de2c6069a2018fa3d7b57d30cd0c34ad972\"\n",
    "\n",
    "\n",
    "DISCORD_WEBOOK = \"https://discord.com/api/webhooks/1116434688031080561/xbXI-ckVatax4VlR9Qb_e-9Zxj0frgaU8-PYCWvKVc_rqjzd1V67DsuJ4p84qM6knED9\""
   ]
  },
  {
   "cell_type": "code",
   "execution_count": 15,
   "metadata": {},
   "outputs": [],
   "source": [
    "from binance_api import Binance"
   ]
  },
  {
   "cell_type": "code",
   "execution_count": 16,
   "metadata": {},
   "outputs": [
    {
     "name": "stdout",
     "output_type": "stream",
     "text": [
      "Binance API initialized\n"
     ]
    }
   ],
   "source": [
    "bb = Binance(API_KEY, API_SECRET,DISCORD_WEBOOK)"
   ]
  },
  {
   "cell_type": "code",
   "execution_count": 17,
   "metadata": {},
   "outputs": [
    {
     "data": {
      "text/plain": [
       "0"
      ]
     },
     "execution_count": 17,
     "metadata": {},
     "output_type": "execute_result"
    }
   ],
   "source": [
    "bb.get_position(\"BTC\")"
   ]
  },
  {
   "cell_type": "code",
   "execution_count": 18,
   "metadata": {},
   "outputs": [
    {
     "data": {
      "text/plain": [
       "False"
      ]
     },
     "execution_count": 18,
     "metadata": {},
     "output_type": "execute_result"
    }
   ],
   "source": [
    "bb.check_open_order(\"BTCUSDT\")"
   ]
  },
  {
   "cell_type": "code",
   "execution_count": 19,
   "metadata": {},
   "outputs": [
    {
     "data": {
      "text/plain": [
       "26446.52"
      ]
     },
     "execution_count": 19,
     "metadata": {},
     "output_type": "execute_result"
    }
   ],
   "source": [
    "bb.get_price(\"BTCUSDT\")"
   ]
  },
  {
   "cell_type": "code",
   "execution_count": 20,
   "metadata": {},
   "outputs": [
    {
     "name": "stdout",
     "output_type": "stream",
     "text": [
      "0.01\n"
     ]
    },
    {
     "data": {
      "text/plain": [
       "2"
      ]
     },
     "execution_count": 20,
     "metadata": {},
     "output_type": "execute_result"
    }
   ],
   "source": [
    "bb.get_tick_size(\"ETHUSDT\")"
   ]
  },
  {
   "cell_type": "code",
   "execution_count": 21,
   "metadata": {},
   "outputs": [
    {
     "name": "stdout",
     "output_type": "stream",
     "text": [
      "Deleting pending orders\n"
     ]
    }
   ],
   "source": [
    "bb.delete_pending_orders(\"BTCUSDT\")"
   ]
  },
  {
   "cell_type": "code",
   "execution_count": 28,
   "metadata": {},
   "outputs": [
    {
     "name": "stdout",
     "output_type": "stream",
     "text": [
      "Deleting pending orders\n",
      "0.01\n"
     ]
    },
    {
     "data": {
      "text/plain": [
       "{'orderId': 3369371726,\n",
       " 'symbol': 'BTCUSDT',\n",
       " 'status': 'NEW',\n",
       " 'clientOrderId': '9biLvhazjPBtsC4bMjrmiJ',\n",
       " 'price': '0.00',\n",
       " 'avgPrice': '0.00',\n",
       " 'origQty': '0.010',\n",
       " 'executedQty': '0.000',\n",
       " 'cumQty': '0.000',\n",
       " 'cumQuote': '0.00000',\n",
       " 'timeInForce': 'GTC',\n",
       " 'type': 'MARKET',\n",
       " 'reduceOnly': False,\n",
       " 'closePosition': False,\n",
       " 'side': 'BUY',\n",
       " 'positionSide': 'BOTH',\n",
       " 'stopPrice': '0.00',\n",
       " 'workingType': 'CONTRACT_PRICE',\n",
       " 'priceProtect': False,\n",
       " 'origType': 'MARKET',\n",
       " 'updateTime': 1686280650916}"
      ]
     },
     "execution_count": 28,
     "metadata": {},
     "output_type": "execute_result"
    }
   ],
   "source": [
    "bb.place_bracket_order(symbol=\"BTCUSDT\", side=\"BUY\", quantity=0.01, takeProfit=1.5,stopLoss=1)"
   ]
  },
  {
   "cell_type": "code",
   "execution_count": 23,
   "metadata": {},
   "outputs": [
    {
     "name": "stderr",
     "output_type": "stream",
     "text": [
      "WARNING:tvDatafeed.main:you are using nologin method, data you access may be limited\n"
     ]
    }
   ],
   "source": [
    "from tvDatafeed import TvDatafeed, Interval\n",
    "tv = TvDatafeed()"
   ]
  },
  {
   "cell_type": "code",
   "execution_count": 24,
   "metadata": {},
   "outputs": [],
   "source": [
    "data =  tv.get_hist(symbol='BTCUSDT.P',exchange='Binance',interval=Interval.in_15_minute,n_bars=1000)\n",
    "  # namining the columns [\"Date\",\"PriceOpen\",\"PriceHigh\",\"PriceLow\",\"PriceClose\",\"Volume\"]\n",
    "  \n",
    "data = data.rename(columns={\"datetime\":\"Date\",\"open\":\"PriceOpen\",\"high\":\"PriceHigh\",\"low\":\"PriceLow\",\"close\":\"PriceClose\",\"volume\":\"Volume\"})\n",
    "  "
   ]
  },
  {
   "cell_type": "code",
   "execution_count": 25,
   "metadata": {},
   "outputs": [
    {
     "data": {
      "text/html": [
       "<div>\n",
       "<style scoped>\n",
       "    .dataframe tbody tr th:only-of-type {\n",
       "        vertical-align: middle;\n",
       "    }\n",
       "\n",
       "    .dataframe tbody tr th {\n",
       "        vertical-align: top;\n",
       "    }\n",
       "\n",
       "    .dataframe thead th {\n",
       "        text-align: right;\n",
       "    }\n",
       "</style>\n",
       "<table border=\"1\" class=\"dataframe\">\n",
       "  <thead>\n",
       "    <tr style=\"text-align: right;\">\n",
       "      <th></th>\n",
       "      <th>symbol</th>\n",
       "      <th>PriceOpen</th>\n",
       "      <th>PriceHigh</th>\n",
       "      <th>PriceLow</th>\n",
       "      <th>PriceClose</th>\n",
       "      <th>Volume</th>\n",
       "    </tr>\n",
       "    <tr>\n",
       "      <th>datetime</th>\n",
       "      <th></th>\n",
       "      <th></th>\n",
       "      <th></th>\n",
       "      <th></th>\n",
       "      <th></th>\n",
       "      <th></th>\n",
       "    </tr>\n",
       "  </thead>\n",
       "  <tbody>\n",
       "    <tr>\n",
       "      <th>2023-05-29 22:15:00</th>\n",
       "      <td>Binance:BTCUSDT.P</td>\n",
       "      <td>27660.6</td>\n",
       "      <td>27694.2</td>\n",
       "      <td>27606.0</td>\n",
       "      <td>27671.1</td>\n",
       "      <td>5377.072</td>\n",
       "    </tr>\n",
       "    <tr>\n",
       "      <th>2023-05-29 22:30:00</th>\n",
       "      <td>Binance:BTCUSDT.P</td>\n",
       "      <td>27671.1</td>\n",
       "      <td>27685.6</td>\n",
       "      <td>27641.6</td>\n",
       "      <td>27657.6</td>\n",
       "      <td>2649.394</td>\n",
       "    </tr>\n",
       "    <tr>\n",
       "      <th>2023-05-29 22:45:00</th>\n",
       "      <td>Binance:BTCUSDT.P</td>\n",
       "      <td>27657.6</td>\n",
       "      <td>27734.4</td>\n",
       "      <td>27626.0</td>\n",
       "      <td>27682.0</td>\n",
       "      <td>6192.180</td>\n",
       "    </tr>\n",
       "    <tr>\n",
       "      <th>2023-05-29 23:00:00</th>\n",
       "      <td>Binance:BTCUSDT.P</td>\n",
       "      <td>27682.1</td>\n",
       "      <td>27700.0</td>\n",
       "      <td>27663.4</td>\n",
       "      <td>27695.6</td>\n",
       "      <td>3144.639</td>\n",
       "    </tr>\n",
       "    <tr>\n",
       "      <th>2023-05-29 23:15:00</th>\n",
       "      <td>Binance:BTCUSDT.P</td>\n",
       "      <td>27695.5</td>\n",
       "      <td>27710.0</td>\n",
       "      <td>27680.6</td>\n",
       "      <td>27690.9</td>\n",
       "      <td>2662.861</td>\n",
       "    </tr>\n",
       "    <tr>\n",
       "      <th>...</th>\n",
       "      <td>...</td>\n",
       "      <td>...</td>\n",
       "      <td>...</td>\n",
       "      <td>...</td>\n",
       "      <td>...</td>\n",
       "      <td>...</td>\n",
       "    </tr>\n",
       "    <tr>\n",
       "      <th>2023-06-09 07:00:00</th>\n",
       "      <td>Binance:BTCUSDT.P</td>\n",
       "      <td>26490.0</td>\n",
       "      <td>26526.4</td>\n",
       "      <td>26460.9</td>\n",
       "      <td>26497.3</td>\n",
       "      <td>3211.193</td>\n",
       "    </tr>\n",
       "    <tr>\n",
       "      <th>2023-06-09 07:15:00</th>\n",
       "      <td>Binance:BTCUSDT.P</td>\n",
       "      <td>26497.3</td>\n",
       "      <td>26505.0</td>\n",
       "      <td>26236.0</td>\n",
       "      <td>26383.2</td>\n",
       "      <td>16366.584</td>\n",
       "    </tr>\n",
       "    <tr>\n",
       "      <th>2023-06-09 07:30:00</th>\n",
       "      <td>Binance:BTCUSDT.P</td>\n",
       "      <td>26383.1</td>\n",
       "      <td>26412.8</td>\n",
       "      <td>26339.0</td>\n",
       "      <td>26394.0</td>\n",
       "      <td>4891.049</td>\n",
       "    </tr>\n",
       "    <tr>\n",
       "      <th>2023-06-09 07:45:00</th>\n",
       "      <td>Binance:BTCUSDT.P</td>\n",
       "      <td>26394.0</td>\n",
       "      <td>26464.5</td>\n",
       "      <td>26370.6</td>\n",
       "      <td>26448.0</td>\n",
       "      <td>3806.206</td>\n",
       "    </tr>\n",
       "    <tr>\n",
       "      <th>2023-06-09 08:00:00</th>\n",
       "      <td>Binance:BTCUSDT.P</td>\n",
       "      <td>26448.0</td>\n",
       "      <td>26473.2</td>\n",
       "      <td>26430.0</td>\n",
       "      <td>26436.2</td>\n",
       "      <td>2871.977</td>\n",
       "    </tr>\n",
       "  </tbody>\n",
       "</table>\n",
       "<p>1000 rows × 6 columns</p>\n",
       "</div>"
      ],
      "text/plain": [
       "                                symbol  PriceOpen  PriceHigh  PriceLow  \\\n",
       "datetime                                                                 \n",
       "2023-05-29 22:15:00  Binance:BTCUSDT.P    27660.6    27694.2   27606.0   \n",
       "2023-05-29 22:30:00  Binance:BTCUSDT.P    27671.1    27685.6   27641.6   \n",
       "2023-05-29 22:45:00  Binance:BTCUSDT.P    27657.6    27734.4   27626.0   \n",
       "2023-05-29 23:00:00  Binance:BTCUSDT.P    27682.1    27700.0   27663.4   \n",
       "2023-05-29 23:15:00  Binance:BTCUSDT.P    27695.5    27710.0   27680.6   \n",
       "...                                ...        ...        ...       ...   \n",
       "2023-06-09 07:00:00  Binance:BTCUSDT.P    26490.0    26526.4   26460.9   \n",
       "2023-06-09 07:15:00  Binance:BTCUSDT.P    26497.3    26505.0   26236.0   \n",
       "2023-06-09 07:30:00  Binance:BTCUSDT.P    26383.1    26412.8   26339.0   \n",
       "2023-06-09 07:45:00  Binance:BTCUSDT.P    26394.0    26464.5   26370.6   \n",
       "2023-06-09 08:00:00  Binance:BTCUSDT.P    26448.0    26473.2   26430.0   \n",
       "\n",
       "                     PriceClose     Volume  \n",
       "datetime                                    \n",
       "2023-05-29 22:15:00     27671.1   5377.072  \n",
       "2023-05-29 22:30:00     27657.6   2649.394  \n",
       "2023-05-29 22:45:00     27682.0   6192.180  \n",
       "2023-05-29 23:00:00     27695.6   3144.639  \n",
       "2023-05-29 23:15:00     27690.9   2662.861  \n",
       "...                         ...        ...  \n",
       "2023-06-09 07:00:00     26497.3   3211.193  \n",
       "2023-06-09 07:15:00     26383.2  16366.584  \n",
       "2023-06-09 07:30:00     26394.0   4891.049  \n",
       "2023-06-09 07:45:00     26448.0   3806.206  \n",
       "2023-06-09 08:00:00     26436.2   2871.977  \n",
       "\n",
       "[1000 rows x 6 columns]"
      ]
     },
     "execution_count": 25,
     "metadata": {},
     "output_type": "execute_result"
    }
   ],
   "source": [
    "data"
   ]
  },
  {
   "cell_type": "code",
   "execution_count": 26,
   "metadata": {},
   "outputs": [
    {
     "ename": "NameError",
     "evalue": "name 'ta' is not defined",
     "output_type": "error",
     "traceback": [
      "\u001b[1;31m---------------------------------------------------------------------------\u001b[0m",
      "\u001b[1;31mNameError\u001b[0m                                 Traceback (most recent call last)",
      "Cell \u001b[1;32mIn[26], line 2\u001b[0m\n\u001b[0;32m      1\u001b[0m \u001b[39mimport\u001b[39;00m \u001b[39mpandas_ta\u001b[39;00m\n\u001b[1;32m----> 2\u001b[0m macD \u001b[39m=\u001b[39m ta\u001b[39m.\u001b[39mmacd(data[\u001b[39m\"\u001b[39m\u001b[39mPriceClose\u001b[39m\u001b[39m\"\u001b[39m], length_fast\u001b[39m=\u001b[39m\u001b[39m12\u001b[39m, length_slow\u001b[39m=\u001b[39m\u001b[39m26\u001b[39m, append\u001b[39m=\u001b[39m\u001b[39mTrue\u001b[39;00m)\n",
      "\u001b[1;31mNameError\u001b[0m: name 'ta' is not defined"
     ]
    }
   ],
   "source": [
    "import pandas_ta\n",
    "macD = ta.macd(data[\"PriceClose\"], length_fast=12, length_slow=26, append=True)\n"
   ]
  },
  {
   "cell_type": "code",
   "execution_count": null,
   "metadata": {},
   "outputs": [
    {
     "data": {
      "text/plain": [
       "datetime\n",
       "2023-05-29 14:00:00          NaN\n",
       "2023-05-29 14:15:00          NaN\n",
       "2023-05-29 14:30:00          NaN\n",
       "2023-05-29 14:45:00          NaN\n",
       "2023-05-29 15:00:00          NaN\n",
       "                         ...    \n",
       "2023-06-08 22:45:00    12.476914\n",
       "2023-06-08 23:00:00     5.864721\n",
       "2023-06-08 23:15:00     3.656710\n",
       "2023-06-08 23:30:00     7.668590\n",
       "2023-06-08 23:45:00     8.099908\n",
       "Freq: 15T, Name: MACD_12_26_9, Length: 1000, dtype: float64"
      ]
     },
     "execution_count": 10,
     "metadata": {},
     "output_type": "execute_result"
    }
   ],
   "source": [
    "macD[\"MACD_12_26_9\"]"
   ]
  }
 ],
 "metadata": {
  "kernelspec": {
   "display_name": "Python 3",
   "language": "python",
   "name": "python3"
  },
  "language_info": {
   "codemirror_mode": {
    "name": "ipython",
    "version": 3
   },
   "file_extension": ".py",
   "mimetype": "text/x-python",
   "name": "python",
   "nbconvert_exporter": "python",
   "pygments_lexer": "ipython3",
   "version": "3.11.3"
  },
  "orig_nbformat": 4
 },
 "nbformat": 4,
 "nbformat_minor": 2
}
